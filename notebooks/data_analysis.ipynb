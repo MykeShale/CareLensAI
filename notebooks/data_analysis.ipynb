{
 "cells": [
  {
   "cell_type": "markdown",
   "metadata": {},
   "source": [
    "# Data Analysis of Health Metrics\n",
    "\n",
    "This notebook contains exploratory data analysis (EDA) and visualizations of the health metrics collected from wearable devices. The goal is to understand the data distribution, identify trends, and detect any anomalies in the health metrics."
   ]
  },
  {
   "cell_type": "code",
   "execution_count": 2,
   "metadata": {},
   "outputs": [
    {
     "ename": "ModuleNotFoundError",
     "evalue": "No module named 'pandas'",
     "output_type": "error",
     "traceback": [
      "\u001b[31m---------------------------------------------------------------------------\u001b[39m",
      "\u001b[31mModuleNotFoundError\u001b[39m                       Traceback (most recent call last)",
      "\u001b[36mCell\u001b[39m\u001b[36m \u001b[39m\u001b[32mIn[2]\u001b[39m\u001b[32m, line 1\u001b[39m\n\u001b[32m----> \u001b[39m\u001b[32m1\u001b[39m \u001b[38;5;28;01mimport\u001b[39;00m\u001b[38;5;250m \u001b[39m\u001b[34;01mpandas\u001b[39;00m\u001b[38;5;250m \u001b[39m\u001b[38;5;28;01mas\u001b[39;00m\u001b[38;5;250m \u001b[39m\u001b[34;01mpd\u001b[39;00m\n\u001b[32m      2\u001b[39m \u001b[38;5;28;01mimport\u001b[39;00m\u001b[38;5;250m \u001b[39m\u001b[34;01mnumpy\u001b[39;00m\u001b[38;5;250m \u001b[39m\u001b[38;5;28;01mas\u001b[39;00m\u001b[38;5;250m \u001b[39m\u001b[34;01mnp\u001b[39;00m\n\u001b[32m      4\u001b[39m \u001b[38;5;66;03m# Simulate health data\u001b[39;00m\n",
      "\u001b[31mModuleNotFoundError\u001b[39m: No module named 'pandas'"
     ]
    }
   ],
   "source": [
    "import pandas as pd\n",
    "import numpy as np\n",
    "\n",
    "# Simulate health data\n",
    "np.random.seed(42)\n",
    "data = {\n",
    "    'timestamp': pd.date_range(start='2023-10-01', periods=1000, freq='T'),\n",
    "    'heart_rate': np.random.randint(60, 100, 1000),\n",
    "    'blood_oxygen': np.random.randint(90, 100, 1000),\n",
    "    'activity_level': np.random.choice(['low', 'moderate', 'high'], 1000)\n",
    "}\n",
    "\n",
    "df_sim = pd.DataFrame(data)\n",
    "df_sim.to_csv('../data/health_metrics.csv', index=False)\n",
    "print(\"Simulated data saved to ../data/health_metrics.csv\")\n",
    "\n",
    "import matplotlib.pyplot as plt\n",
    "import seaborn as sns\n",
    "\n",
    "# Set the style of seaborn\n",
    "sns.set(style='whitegrid')"
   ]
  },
  {
   "cell_type": "code",
   "execution_count": null,
   "metadata": {},
   "outputs": [],
   "source": [
    "# Load the health metrics dataset\n",
    "df = pd.read_csv('../data/health_metrics.csv')  # Update the path as necessary\n",
    "\n",
    "import sys\n",
    "sys.path.append('../src')  # Adjust path if needed\n",
    "\n",
    "from preprocessing import preprocess_health_data\n",
    "\n",
    "# Only preprocess numeric columns\n",
    "numeric_cols = ['heart_rate', 'blood_oxygen']\n",
    "df[numeric_cols] = preprocess_health_data(df[numeric_cols])\n",
    "df.head()"
   ]
  },
  {
   "cell_type": "code",
   "execution_count": null,
   "metadata": {},
   "outputs": [],
   "source": [
    "# Summary statistics of the dataset\n",
    "df.describe()"
   ]
  },
  {
   "cell_type": "code",
   "execution_count": null,
   "metadata": {},
   "outputs": [],
   "source": [
    "# Check for missing values\n",
    "missing_values = df.isnull().sum()\n",
    "missing_values[missing_values > 0]"
   ]
  },
  {
   "cell_type": "code",
   "execution_count": null,
   "metadata": {},
   "outputs": [],
   "source": [
    "# Visualize the distribution of heart rate\n",
    "plt.figure(figsize=(10, 6))\n",
    "sns.histplot(df['heart_rate'], bins=20, kde=True)\n",
    "plt.title('Distribution of Heart Rate')\n",
    "plt.xlabel('Heart Rate (bpm)')\n",
    "plt.ylabel('Frequency')\n",
    "plt.show()"
   ]
  },
  {
   "cell_type": "code",
   "execution_count": null,
   "metadata": {},
   "outputs": [],
   "source": [
    "# Visualize the relationship between heart rate and blood oxygen levels\n",
    "plt.figure(figsize=(10, 6))\n",
    "sns.scatterplot(data=df, x='heart_rate', y='blood_oxygen', hue='activity_level', alpha=0.7)\n",
    "plt.title('Heart Rate vs Blood Oxygen Levels')\n",
    "plt.xlabel('Heart Rate (bpm)')\n",
    "plt.ylabel('Blood Oxygen Level (%)')\n",
    "plt.legend(title='Activity Level')\n",
    "plt.show()"
   ]
  },
  {
   "cell_type": "code",
   "execution_count": null,
   "metadata": {},
   "outputs": [],
   "source": [
    "# Time series analysis of heart rate\n",
    "df['timestamp'] = pd.to_datetime(df['timestamp'])\n",
    "df.set_index('timestamp', inplace=True)\n",
    "\n",
    "plt.figure(figsize=(14, 7))\n",
    "plt.plot(df['heart_rate'], label='Heart Rate', color='blue')\n",
    "plt.title('Heart Rate Over Time')\n",
    "plt.xlabel('Time')\n",
    "plt.ylabel('Heart Rate (bpm)')\n",
    "plt.legend()\n",
    "plt.show()"
   ]
  },
  {
   "cell_type": "markdown",
   "metadata": {},
   "source": [
    "## Conclusion\n",
    "\n",
    "This notebook provides an initial exploration of the health metrics data. Further analysis can be conducted to derive insights and inform health recommendations."
   ]
  }
 ],
 "metadata": {
  "kernelspec": {
   "display_name": "Python 3",
   "language": "python",
   "name": "python3"
  },
  "language_info": {
   "codemirror_mode": {
    "name": "ipython",
    "version": 3
   },
   "file_extension": ".py",
   "mimetype": "text/x-python",
   "name": "python",
   "nbconvert_exporter": "python",
   "pygments_lexer": "ipython3",
   "version": "3.11.9"
  }
 },
 "nbformat": 4,
 "nbformat_minor": 4
}
